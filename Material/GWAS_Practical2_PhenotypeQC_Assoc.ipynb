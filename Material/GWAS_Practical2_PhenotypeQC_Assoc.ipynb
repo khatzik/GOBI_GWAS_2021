{
 "cells": [
  {
   "cell_type": "markdown",
   "metadata": {},
   "source": [
    "<script>\n",
    "    var code_show=true; //true -> hide code at first\n",
    "\n",
    "    function code_toggle() {\n",
    "        $('div.prompt').hide(); // always hide prompt\n",
    "\n",
    "        if (code_show){\n",
    "            $('div.input').hide();\n",
    "        } else {\n",
    "            $('div.input').show();\n",
    "        }\n",
    "        code_show = !code_show\n",
    "    }\n",
    "    $( document ).ready(code_toggle);\n",
    "</script>"
   ]
  },
  {
   "cell_type": "markdown",
   "metadata": {},
   "source": [
    "<center>\n",
    "<h1> Genetic Association Studies</h1><br><br>\n",
    "<i><big>Performing a quantitative trait genome-wide association study: from data preparation to analysis of results.</big><br><br>\n",
    "\n",
    "\n",
    "\n",
    "## Objectives\n",
    "In this workshop you will learn the basic skills needed to perform genetic association studies, from file format manipulation to filtering, single-point association and visualisation of results. We will be working with a simulated  phenotype (let's say it's a blood metabolite measurement) and a QCed dataset similar to that you produced in Practical 1.\n",
    "<br><br>\n",
    "\n",
    "<figure>\n",
    "  <img src=\"./WS3_workflow.png\" width=\"60%\" alt=\"\" />\n",
    "  <figcaption><i><center>Fig. 1: Workflow of the different analysis stages covered in the workshop</center></i></figcaption>\n",
    "</figure>\n",
    "</center>\n",
    "<br><br>\n",
    "\n",
    "We will be using <code>plink</code> to run the association and R to standardise our phenotype and visualise the results.\n",
    "You can find a manual and command reference of <code>plink</code> [here](https://www.cog-genomics.org/plink/1.9/).\n",
    "\n",
    "In R we will be using the package <code>data.table</code>, which provides a lot of useful commands, such as <code>fread</code> for fast reading in of large files. If you want to find out more about <code>data.table</code> and its perks, you can do so [here](https://cran.r-project.org/web/packages/data.table/vignettes/datatable-intro.html) and [here](https://cran.r-project.org/web/packages/data.table/data.table.pdf).\n",
    "\n",
    "<br>\n",
    "\n",
    "\n",
    "<br>\n",
    "Initial setup:\n",
    "<br>\n",
    "\n",
    "```bash\n",
    "# login\n",
    "\n",
    "module load charliecloud\n",
    "ch-run /dss/dsshome1/lxc06/gobi012/GWAS/gobi -- ls -lrt --color=auto /data\n",
    "ch-run /dss/dsshome1/lxc06/gobi012/GWAS/gobi -- /bin/bash\n",
    "## test plink runs in the container:\n",
    "plink --help\n",
    "## test that R runs for you, then use q() and then n to exit R\n",
    "R\n",
    "\n",
    "#Once in the container move to your home directory \n",
    "cd ~\n",
    "mkdir GWASgobi[group number]_ASSOC_[your name]\n",
    "cd GWASgobi[group number]_ASSOC_[your name]\n",
    "\n",
    "```\n",
    "<div class=\"alert alert-warning\">\n",
    "<b>Location:</b> The data for this workshop can be found here: <code>/data/Workshop3_geneticAssociation</code><br>\n",
    "There are 2 subdirectories <code>Step1</code> and <code>Step2</code> </div> \n",
    "\n",
    "\n",
    "\n",
    "For each quesiton please provide the following in a text file or as markdown in the Jupyter note book:\n",
    "- Answers\n",
    "- Any code generated\n",
    "\n",
    "For any plots please export them as .png, .jpg or .pdf and label them as GWAS.[question number].\n",
    "\n",
    "Each question answered correctly will be awarded 1 point with the exception of the following questions 1a, 1b, 1c, 1f, 1h, 2d, 2f, 3f which will recieve 0.5 point each and 3h gets 2 points. 25 points in total for practical 2\n",
    "\n",
    "\n",
    "\n",
    "\n",
    "\n",
    "\n",
    "\n",
    "\n"
   ]
  },
  {
   "cell_type": "markdown",
   "metadata": {},
   "source": [
    "<hr>\n",
    "\n",
    "## Step 1: File preparation\n",
    "\n",
    "<br>\n",
    "<div class=\"alert alert-warning\">\n",
    "<b>Location:</b> Input files for this step are located in the <code> Workshop3_geneticAssociation</code> and the <code>Step1</code> folder.\n",
    "</div>\n",
    "\n",
    "<br>\n",
    "\n",
    "\n",
    "### Missing phenotypes  \n",
    "\n",
    "\n",
    "In large-scale sample collections you will often find that some individuals do not have a data entry for your phenotype of interest.\n",
    "\n",
    "This is normally not a problem, as long as it doesn't affect too many samples. Association programs like <code>plink</code> and <code>SNPTEST</code> treat certain values as missing phenotypes and exclude the corresponding samples automatically.\n",
    "\n",
    "Nevertheless, it is good practice to check how many samples have missing phenotypes before running an association, and also make sure that their phenotype is set to an accepted missing value.\n",
    "\n",
    "<br>\n",
    "\n",
    "\n",
    "For each question please include all code and any visuals generated.\n",
    "\n",
    "<div class=\"alert alert-success\"><b>Question 1a:</b>  In the <code>Step1</code> folder you will find a file called <code>cohort1_pheno.txt</code> The file is not in <code>plink</code> format, the first column is individual identifier and the second is the quantitative phenotype . In plink what should the columns of a phenotype file look like and represent?</div>\n",
    "\n"
   ]
  },
  {
   "cell_type": "markdown",
   "metadata": {},
   "source": [
    "Answer:"
   ]
  },
  {
   "cell_type": "markdown",
   "metadata": {},
   "source": [
    "\n",
    "<div class=\"alert alert-success\"><b>Question 1b:</b>  Are there any individuals with missing data and if so using the command line count how many missing phenotypes are present.</div>\n"
   ]
  },
  {
   "cell_type": "markdown",
   "metadata": {},
   "source": [
    "Answer:"
   ]
  },
  {
   "cell_type": "markdown",
   "metadata": {},
   "source": [
    "\n",
    "<div class=\"alert alert-success\"><b>Question 1c:</b>  In plink what values are allowed to denote that a phenotype is missing?</div>\n"
   ]
  },
  {
   "cell_type": "markdown",
   "metadata": {},
   "source": [
    "Answer:"
   ]
  },
  {
   "cell_type": "markdown",
   "metadata": {},
   "source": [
    "### Phenotype cleaning and standardisation\n",
    "\n",
    "When working with quantitative traits, such as height, BMI or blood lipids, you will often find that the measurements in your cohort do not follow a normal distribution. This could simply be due to the way your samples were collected - e.g. height follows an approximately normal distrbution at the population level; however, if you randomly pick 100 people, you might end up with a skewed distribution, simply because by chance there is a disproportionate number of very tall people in your sample.\n",
    "On the other hand, some traits naturally follow a non-normal distribution, such as certain blood metabolites.\n",
    "\n",
    "Since linear regression models rely on the assumption of a normally distributed response variable (the phenotype), it is important to inspect your phenotype measurements and, if necessary, standardise them before conducting a GWAS.\n",
    "\n",
    "<br>\n",
    "\n",
    "<div class=\"alert alert-success\"><b>Question 1d:</b>  Load the <code>cohort1_pheno.txt</code> file in <code>R</code> and look at the distribution of the phenotype values. How can you determine the minimum, maximum, mean and standard deviation?</div>\n",
    "\n"
   ]
  },
  {
   "cell_type": "markdown",
   "metadata": {},
   "source": [
    "Answer:\n",
    "```R\n",
    "\n",
    "\n",
    "\n",
    "\n",
    "```"
   ]
  },
  {
   "cell_type": "markdown",
   "metadata": {},
   "source": [
    "<div class=\"alert alert-success\"><b>Question 1e:</b>  Produce an appropriate plot to visualise the phenotype data. Export the plot as a pdf, jpg or png and name the file GWAS.1e </div>\n",
    "\n"
   ]
  },
  {
   "cell_type": "markdown",
   "metadata": {},
   "source": [
    "Answer:\n",
    "```R\n",
    "\n",
    "\n",
    "```\n"
   ]
  },
  {
   "cell_type": "markdown",
   "metadata": {},
   "source": [
    "<div class=\"alert alert-success\"><b>Question 1f:</b>  Are there any outliers?</div>\n",
    "<br>"
   ]
  },
  {
   "cell_type": "markdown",
   "metadata": {},
   "source": [
    "Answer:"
   ]
  },
  {
   "cell_type": "markdown",
   "metadata": {},
   "source": [
    "\n",
    "Depending on the type of trait you are looking at, you will have different criteria for outlier definition. For phsyiological or anthropometric measurements it is a good rule of thumb to look for negative values or ones that are biologically impossible (for example, it's highly unlikely to find someone who is 900m tall!)\n",
    "\n",
    "Next, we want to exclude the outliers and re-examine the phenotype distribution.\n",
    "\n",
    "<div class=\"alert alert-success\"><b>Question 1g:</b>  If there are any outliers code them as missing and visualise the phenotype again. Export the plot as a pdf, jpg or png and name the file GWAS.1g  </div>\n",
    "<br>\n",
    "\n"
   ]
  },
  {
   "cell_type": "markdown",
   "metadata": {},
   "source": [
    "Answer:\n",
    "```R\n",
    "\n",
    "\n",
    "```"
   ]
  },
  {
   "cell_type": "markdown",
   "metadata": {},
   "source": [
    "<div class=\"alert alert-success\"><b>Question 1h:</b>  What distribution does the phenotype follow?  </div>\n",
    "\n",
    "\n"
   ]
  },
  {
   "cell_type": "markdown",
   "metadata": {},
   "source": [
    "Answer:"
   ]
  },
  {
   "cell_type": "markdown",
   "metadata": {},
   "source": [
    "\n",
    "<div class=\"alert alert-success\"><b>Question 1i:</b>  What options can you try to transform this distribution to a standard normal one? try some transformations and transform and visualise the data. Export the plot as pdf, jpg or png and name the file GWAS.1i  </div>\n",
    "\n",
    "\n"
   ]
  },
  {
   "cell_type": "markdown",
   "metadata": {},
   "source": [
    "Answer:\n",
    "```R\n",
    "\n",
    "```"
   ]
  },
  {
   "cell_type": "markdown",
   "metadata": {},
   "source": [
    "\n",
    "<div class=\"alert alert-success\"><b>Question 1j:</b>  Now perform an inverse normal transformation and then plot the data. Export the plot as a pdf, jpg or png and name the file GWAS.1j </div>\n",
    "\n"
   ]
  },
  {
   "cell_type": "markdown",
   "metadata": {},
   "source": [
    "Answer:\n",
    "```R\n",
    "\n",
    "\n",
    "```"
   ]
  },
  {
   "cell_type": "markdown",
   "metadata": {},
   "source": [
    "\n",
    "<div class=\"alert alert-success\"><b>Question 1k:</b> What does the <code>na.last</code> parameter in the <code>rank</code> function in 1j do? Why is it important to set it to <code>\"keep\"</code>?</div>\n",
    "\n"
   ]
  },
  {
   "cell_type": "markdown",
   "metadata": {},
   "source": [
    "Answer:"
   ]
  },
  {
   "cell_type": "markdown",
   "metadata": {},
   "source": [
    "\n",
    "Now that we have transformed our phenotype, we just need to save it to a <code>plink</code> compatible format (https://www.cog-genomics.org/plink/1.9/input#pheno). The <code>plink</code> pheno file is similar to a .fam file, with the first two columns being individual and family IDs; the third column should contain the phenotype values. \n",
    "\n",
    "<div class=\"alert alert-success\"><b>Question 1l:</b> Write out the inverse normal distributed data to a <code>plink</code> pheno file named <code>cohort1_pheno_final.txt</code>, we will use this file in Step2. Please include a 'head' of the new file with your code. </div>\n",
    "\n",
    "\n"
   ]
  },
  {
   "cell_type": "markdown",
   "metadata": {},
   "source": [
    "Answer:\n",
    "```R\n",
    "\n",
    "\n",
    "```"
   ]
  },
  {
   "cell_type": "markdown",
   "metadata": {},
   "source": [
    "## Step 2: Analysis\n",
    "\n",
    "<br>\n",
    "<div class=\"alert alert-warning\"><b>Location:</b> Input files for this step are located in the <code>/data/Workshop3_geneticAssociation </code>and <code>Step2</code> folder. You will also need the transformed phenotype file you just created. </div> \n",
    "\n",
    "\n",
    "\n",
    "To run the association analysis we will use a QCed dataset in the Step2 folder (this is similar to the one you produced in Practical 1) plus the phenotype file we created above. Have an explore of the plink bed files to make sure you understand the files, for example look at how many individuals you have and how many variants passed the QC. The individual identifiers should be the same between the pheno file and the plink bed files in order that plink can map between the different files.\n",
    "\n",
    "\n",
    "\n",
    "<div class=\"alert alert-success\"><b>Question 2a:</b> We want to perform genetic association in our cohort with our transformed phenotype stored in the <code>cohort1_pheno_final.txt</code> file. Run the association using <code>plink</code></div>\n",
    "\n"
   ]
  },
  {
   "cell_type": "markdown",
   "metadata": {},
   "source": [
    "Answer:\n",
    "```bash\n",
    "\n",
    "\n",
    "```"
   ]
  },
  {
   "cell_type": "markdown",
   "metadata": {},
   "source": [
    "\n",
    "This will produce an output file in the [`qassoc`](https://www.cog-genomics.org/plink2/formats#qassoc) format (\"q\" stands for quantitative, as our trait is not binary).\n",
    "\n",
    "PLINK association reports are very readable for the human eye, but not so for other programs (mainly because plink adds multiple spaces to display rows in an orderly fashion, rather than tabs). Let's take some time to make our file more computer-friendly.\n",
    "\n",
    "We want to remove multiple whitespace characters and convert the file to a tab-delimited format\n",
    "\n",
    "<div class=\"alert alert-success\"><b>Question 2b:</b> Using the command line can you convert the <code>.qassoc </code> file to tab delimited</div>\n",
    "\n"
   ]
  },
  {
   "cell_type": "markdown",
   "metadata": {},
   "source": [
    "Answer:\n",
    "```bash\n",
    "\n",
    "\n",
    "```"
   ]
  },
  {
   "cell_type": "markdown",
   "metadata": {},
   "source": [
    "\n",
    "### Additional information\n",
    "\n",
    "It is useful to add other columns to the .qassoc file, such as alleles and allele frequencies. This is not only good for future reference, but also important for subsequent meta-analysis.\n",
    "\n",
    "\n",
    "#### Allele frequency\n",
    "<div class=\"alert alert-success\"><b>Question 2c:</b> Using <code> plink </code> can you get the allele frequency for each variant in our cohort</div>\n",
    "\n"
   ]
  },
  {
   "cell_type": "markdown",
   "metadata": {},
   "source": [
    "Answer:\n",
    "```bash\n",
    "\n",
    "\n",
    "```"
   ]
  },
  {
   "cell_type": "markdown",
   "metadata": {},
   "source": [
    "\n",
    "The output is similar to the .qassoc file in that we want to remove redundant whitespace characters and change the delimiter to tabs. \n",
    "\n",
    "\n",
    "Take a look at the output file which provides the MAF (Minor Allele Frequecy)\n",
    "\n",
    "<div class=\"alert alert-success\"><b>Question 2d:</b> Which allele is the minor allele A1 or A2</div>\n"
   ]
  },
  {
   "cell_type": "markdown",
   "metadata": {},
   "source": [
    "Answer:\n"
   ]
  },
  {
   "cell_type": "markdown",
   "metadata": {},
   "source": [
    "\n",
    "\n",
    "<div class=\"alert alert-success\"><b>Question 2e:</b> Would you expect the same allele to always be the minor allele if you examined other international cohorts? please explain the rationale for your answer. </div>\n",
    "\n"
   ]
  },
  {
   "cell_type": "markdown",
   "metadata": {},
   "source": [
    "Answer:\n"
   ]
  },
  {
   "cell_type": "markdown",
   "metadata": {},
   "source": [
    "\n",
    "\n",
    "#### Risk/effect allele\n",
    "\n",
    "It is important to know for each variant which allele is associated with the effect or risk. <br>\n",
    "You can use the .bim file to get the alleles for each variant.<br>\n",
    "You need to read the documentation to see which allele is the effect allele.<br>\n",
    "\n",
    "\n",
    "<div class=\"alert alert-success\"><b>Question 2f</b> Which allele is used as the effect allele in the association analysis in <code>plink</code> A1 or A2? </div>\n",
    "\n"
   ]
  },
  {
   "cell_type": "markdown",
   "metadata": {},
   "source": [
    "Answer:\n"
   ]
  },
  {
   "cell_type": "markdown",
   "metadata": {},
   "source": [
    "\n",
    "Next, we add this information to the association summary statistics together with the alleles, which we get from the .bim file.\n",
    "\n",
    "\n",
    "<div class=\"alert alert-success\"><b>Question 2g:</b> Using the command line can you produce code to add some additional columns to the .qassoc file to include the alleles (from the bim file labelled as \"A1\" and \"A2\") and the minor allele frequency (from the .frq file) labelled \"MAF\"? </div>\n",
    "\n",
    "\n",
    "For example you can use <code>join</code>, <code>cut</code> and <code>sort</code>"
   ]
  },
  {
   "cell_type": "markdown",
   "metadata": {},
   "source": [
    "Answer:\n",
    "```bash\n",
    "\n",
    "```"
   ]
  },
  {
   "cell_type": "markdown",
   "metadata": {},
   "source": [
    "## Step 3: Visualisation of results\n",
    "\n",
    "\n",
    "Now that you have run the association, you will want to see whether there are any significant associations in your data.\n",
    "There are two main plots generated after an association run:\n",
    "\n",
    "* **The Quantile-Quantile (QQ)** plot is essentially a diagnostic plot. It compares the distribution of p-values against a uniform (expected) distribution. Any deviation from the expected is indicative of an issue (sample relatedness, population stratification, non-normality of phenotype values, etc...). If the associaiton p-values are systematically lower (i.e. more significant) than expected, we refer to this as \"inflation\".\n",
    "* **The Manhattan Plot** displays the $-log_{10}$ of the SNP p-values across the genome and allows to easily spot signals (peaks).\n",
    "\n",
    "\n",
    "<div class=\"alert alert-warning\"><b>Location:</b> Please use this association file for the following exercise: <code> /home/gobi012/GWAS/Material/cohort1_assoc.qassoc </code></div> \n",
    "\n",
    "\n",
    "<br>\n",
    "\n",
    "<div class=\"alert alert-success\"><b>Question 3a:</b>  In R, use the <code>fread</code> function from the <code>data.table</code> package to read the file. Plot a Manhattan and a QQ-plot for the association p-values using the <code>qqman</code> package. Export the plot as a pdf, jpg or png and name the file GWAS.3a</div>\n",
    "\n"
   ]
  },
  {
   "cell_type": "markdown",
   "metadata": {},
   "source": [
    "Answer:\n",
    "```R\n",
    "\n",
    "```"
   ]
  },
  {
   "cell_type": "markdown",
   "metadata": {},
   "source": [
    "\n",
    "<div class=\"alert alert-success\"><b>Question 3b:</b> What is the P-value of the genome-wide significant threshold and suggestive line here and which variants pass the suggestive P-value threshold but fail to reach genome-wide significance?</div>\n"
   ]
  },
  {
   "cell_type": "markdown",
   "metadata": {},
   "source": [
    "Answer:"
   ]
  },
  {
   "cell_type": "markdown",
   "metadata": {},
   "source": [
    "The qqman package provides quick and useful functions to plot GWAS results. However, the code can be a bit clunky if you want to customise your Manhattan plots.\n",
    "\n",
    "<div class=\"alert alert-success\"><b>Question 3c:</b>  Replot the Manhatttan plot and remove the suggestive p-value threshold line and highlight the genome-wide significant variants. Export the plot as a pdf, jpg or png and name the file GWAS.3c</div>\n"
   ]
  },
  {
   "cell_type": "markdown",
   "metadata": {},
   "source": [
    "Answer:\n",
    "```R\n",
    "\n",
    "```"
   ]
  },
  {
   "cell_type": "markdown",
   "metadata": {},
   "source": [
    "\n",
    "<div class=\"alert alert-success\"><b>Question 3d:</b>  Try to create a Manhattan plot using only base graphics. Export the plot as a pdf, jpg or png and name the file GWAS.3d</div>\n",
    "\n"
   ]
  },
  {
   "cell_type": "markdown",
   "metadata": {},
   "source": [
    "Answer:\n",
    "```R\n",
    "\n",
    "```"
   ]
  },
  {
   "cell_type": "markdown",
   "metadata": {},
   "source": [
    "\n",
    "\n",
    "From our Manhattan plot we can see that there is one locus reaching genome-wide signifcance (p<5*10e-8) on chromosome 7.\n",
    "\n",
    "<div class=\"alert alert-success\"><b>Question 3e:</b> Using the command line -what is the rsID of the top SNP? What is its direction of effect, its MAF, chromosome position and alleles?</div>\n",
    "\n",
    "\n",
    "\n"
   ]
  },
  {
   "cell_type": "markdown",
   "metadata": {},
   "source": [
    "Answer:"
   ]
  },
  {
   "cell_type": "markdown",
   "metadata": {},
   "source": [
    "\n",
    "<div class=\"alert alert-success\"><b>Question 3f:</b> If the phenotype was cholesterol level, would the G-allele of this variant be associated with a suscepitiblity to higher cholesterol or lower cholesterol?</div>\n",
    "\n"
   ]
  },
  {
   "cell_type": "markdown",
   "metadata": {},
   "source": [
    "Answer:"
   ]
  },
  {
   "cell_type": "markdown",
   "metadata": {},
   "source": [
    "### Regional plot\n",
    "\n",
    "It's a good idea to generate a regional plot of the signal you get (especially if you're going to publish your results).\n",
    "\n",
    "One way to do this is to use [LocusZoom](http://locuszoom.org/), which is a web interface for creating regional, LD-annotated association plots.\n",
    "\n",
    "However, as for the Manhattan plots, it can be useful to know how to generate a regional plot from scratch. You can annotate this plot with information like protein coding genes, which you can download from databases like [Ensembl](http://www.ensembl.org/index.html).\n",
    "\n",
    "Since you don't want to download gene information for the entire genome, we're going to restrict it to the region of the plot. A good starting point is ±1Mb around your top SNP (although you can of course zoom in or out).\n",
    "\n",
    "<br>\n",
    "<div class=\"alert alert-success\"><b>Question 3g:</b> Calculate the start and end coordinates of our regional window around our signiicant variant using <code>bash</code>.</div>\n",
    "\n"
   ]
  },
  {
   "cell_type": "markdown",
   "metadata": {},
   "source": [
    "Answer:\n",
    "```bash\n",
    "\n",
    "```"
   ]
  },
  {
   "cell_type": "markdown",
   "metadata": {},
   "source": [
    "Now let's download coordinate information for protein coding genes from Ensembl. You can do this via the [Ensmebl Rest API](https://rest.ensembl.org/).\n",
    "\n",
    "**N.B.** Our data are in build GRCh37, but the default Ensembl Rest API uses GRCh38. We can use an archive version of the Rest API to access GRCh37 coordinates. \n",
    "\n",
    "The below command downloads data in a [JSON](\"https://en.wikipedia.org/wiki/JSON\") file from the given link, then parses the file to select only protein-coding transcripts, and outputs the gene name, chromosome, start and stop position.\n",
    "\n",
    "\n",
    "```bash\n",
    "wget -O - --no-check-certificate \"http://grch37.rest.ensembl.org/overlap/region/human/7:92197732-94197732?feature=gene;content-type=application/json\" | jq -r '.[] | select(.biotype == \"protein_coding\") | \"\\(.external_name) \\(.seq_region_name) \\(.start) \\(.[\"end\"])\"' > ensembl_genes.txt\n",
    "```\n",
    "\n",
    "\n",
    "<div class=\"alert alert-success\"><b>Question 3h:</b> Using the information in this file and the .qassoc file can you create a gene-annotated regional plot in R for our locus?</div>  \n",
    "\n"
   ]
  },
  {
   "cell_type": "markdown",
   "metadata": {},
   "source": [
    "Answer:\n",
    "```R\n",
    "\n",
    "```"
   ]
  },
  {
   "cell_type": "markdown",
   "metadata": {},
   "source": [
    "<div class=\"alert alert-success\"><b>Question 3i:</b> Does our variant reside within a gene and if so what is the name of the gene?</div>  \n",
    "\n",
    "<br>"
   ]
  },
  {
   "cell_type": "markdown",
   "metadata": {},
   "source": [
    "Answer:"
   ]
  }
 ],
 "metadata": {
  "hide_input": false,
  "kernelspec": {
   "display_name": "Python 3 (ipykernel)",
   "language": "python",
   "name": "python3"
  },
  "language_info": {
   "codemirror_mode": {
    "name": "ipython",
    "version": 3
   },
   "file_extension": ".py",
   "mimetype": "text/x-python",
   "name": "python",
   "nbconvert_exporter": "python",
   "pygments_lexer": "ipython3",
   "version": "3.9.7"
  }
 },
 "nbformat": 4,
 "nbformat_minor": 4
}
